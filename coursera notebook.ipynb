{
 "cells": [
  {
   "cell_type": "markdown",
   "id": "2730dc6a-daae-4878-b4aa-2aa9ab6bab03",
   "metadata": {},
   "source": [
    "# My Jupyter Notebook on IBM Watson Studio"
   ]
  },
  {
   "cell_type": "markdown",
   "id": "5dffba82-d799-4195-ad50-ca63e1507057",
   "metadata": {},
   "source": [
    "**Shijia**"
   ]
  },
  {
   "cell_type": "markdown",
   "id": "cd10701c-3f40-4f2d-acdf-9a50fc924b7d",
   "metadata": {},
   "source": [
    "*I am interested in data science because I want to explore technological world using data.*"
   ]
  },
  {
   "cell_type": "markdown",
   "id": "566c4de2-9ee5-4cb5-bdd6-5bffc4859293",
   "metadata": {},
   "source": [
    "### Operations in mathematics"
   ]
  },
  {
   "cell_type": "code",
   "execution_count": 1,
   "id": "7284883d-caf9-4920-aa9c-f5a538917989",
   "metadata": {},
   "outputs": [
    {
     "data": {
      "text/plain": [
       "140.6818181818182"
      ]
     },
     "execution_count": 1,
     "metadata": {},
     "output_type": "execute_result"
    }
   ],
   "source": [
    "(856-237)/22*5"
   ]
  },
  {
   "cell_type": "markdown",
   "id": "58961c54-6cbb-4f82-8b00-2f9cde823ed1",
   "metadata": {},
   "source": [
    "### horizontal rule"
   ]
  },
  {
   "cell_type": "markdown",
   "id": "78081c98-6160-4249-ace3-10a952c33b4c",
   "metadata": {},
   "source": [
    "Try to put a blank line before...\n",
    "\n",
    "---\n",
    "\n",
    "...and after a horizontal rule."
   ]
  },
  {
   "cell_type": "markdown",
   "id": "40f0e8fc-2c6b-4886-8e18-c5d29fbd2b12",
   "metadata": {},
   "source": [
    "### blocked quotes"
   ]
  },
  {
   "cell_type": "markdown",
   "id": "2bfc874d-398e-4949-965e-763a5bbd2fbb",
   "metadata": {},
   "source": [
    "> Blockquotes are very handy in email to emulate reply text.\n",
    "> This line is part of the same quote.\n",
    "\n",
    "Quote break.\n",
    "\n",
    "> This is a very long line that will still be quoted properly when it wraps. Oh boy let's keep writing to make sure this is long enough to actually wrap for everyone. Oh, you can *put* **Markdown** into a blockquote. "
   ]
  },
  {
   "cell_type": "markdown",
   "id": "b6a96b2d-e9e0-48cf-ab43-a0eca30f0bdf",
   "metadata": {},
   "source": [
    "### tables"
   ]
  },
  {
   "cell_type": "markdown",
   "id": "6b789e95-06ef-40ea-a567-fd2684ce9b40",
   "metadata": {},
   "source": [
    "| Tables        | Are           | Cool  |\n",
    "| ------------- |:-------------:| -----:|\n",
    "| name          | city          | amount|\n",
    "| Paul          | London        | 7930  |\n",
    "| Emily         | Paris         | 13256 |\n",
    "| John          | New York      | 18774 |"
   ]
  },
  {
   "cell_type": "code",
   "execution_count": null,
   "id": "54603f58-f5e7-41c3-bc59-93e70cd93c53",
   "metadata": {},
   "outputs": [],
   "source": []
  }
 ],
 "metadata": {
  "kernelspec": {
   "display_name": "Python",
   "language": "python",
   "name": "conda-env-python-py"
  },
  "language_info": {
   "codemirror_mode": {
    "name": "ipython",
    "version": 3
   },
   "file_extension": ".py",
   "mimetype": "text/x-python",
   "name": "python",
   "nbconvert_exporter": "python",
   "pygments_lexer": "ipython3",
   "version": "3.7.12"
  }
 },
 "nbformat": 4,
 "nbformat_minor": 5
}
